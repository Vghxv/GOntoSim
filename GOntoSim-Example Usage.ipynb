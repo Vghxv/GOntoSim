{
 "cells": [
  {
   "cell_type": "code",
   "execution_count": 2,
   "metadata": {
    "scrolled": true
   },
   "outputs": [
    {
     "name": "stdout",
     "output_type": "stream",
     "text": [
      "  EXISTS: go-basic.obo\n",
      "go-basic.obo: fmt(1.2) rel(2020-01-01) 47,337 GO Terms; optional_attrs(relationship)\n",
      "  EXISTS: go-basic.obo\n",
      "go-basic.obo: fmt(1.2) rel(2020-01-01) 47,337 GO Terms; optional_attrs(relationship)\n"
     ]
    }
   ],
   "source": [
    "from goatools.obo_parser import GODag\n",
    "from goatools.base import get_godag\n",
    "go = get_godag(\"go-basic.obo\", optional_attrs={'relationship'})\n",
    "\n",
    "from Similarity import Similarity_of_Two_GOTerms, Similarity_of_Set_of_GOTerms"
   ]
  },
  {
   "cell_type": "code",
   "execution_count": 3,
   "metadata": {},
   "outputs": [],
   "source": [
    "go_id1 = 'GO:0005634'\n",
    "go_id2 = 'GO:0042579'\n",
    "go_id3 = 'GO:0005777'\n",
    "go_id4 = 'GO:0031903'"
   ]
  },
  {
   "cell_type": "code",
   "execution_count": 12,
   "metadata": {},
   "outputs": [
    {
     "name": "stdout",
     "output_type": "stream",
     "text": [
      "GOntoSim\n",
      "GO:0005634 and GO:0042579 = 0.43452661328308995\n",
      "GO:0005777 and GO:0031903 = 0.5194065084215557\n",
      "Baseline\n",
      "GO:0005634 and GO:0042579 = 0.7246229452635147\n",
      "GO:0005777 and GO:0031903 = 0.627412655753726\n",
      "Baseline_LCA\n",
      "GO:0005634 and GO:0042579 = 0.8690532265661799\n",
      "GO:0005777 and GO:0031903 = 0.9008819823603528\n",
      "Baseline_Desc\n",
      "GO:0005634 and GO:0042579 = 0.36231147263175734\n",
      "GO:0005777 and GO:0031903 = 0.38267184511824226\n",
      "wang\n",
      "GO:0005634 and GO:0042579 = 0.7439251158246402\n",
      "GO:0005777 and GO:0031903 = 0.6467454250637017\n",
      "GOGO\n",
      "GO:0005634 and GO:0042579 = 0.8063518717651383\n",
      "GO:0005777 and GO:0031903 = 0.7583138688114581\n"
     ]
    }
   ],
   "source": [
    "method = 'GOntoSim'\n",
    "print(method)\n",
    "# Similarity_of_Two_GOTerms(go_id1, go_id2, go, method)\n",
    "# Similarity_of_Two_GOTerms(go_id3, go_id4, go, method)\n",
    "print(go_id1,\"and\", go_id2, \"=\", Similarity_of_Two_GOTerms(go_id1, go_id2, go, method))\n",
    "print(go_id3,\"and\", go_id4, \"=\",Similarity_of_Two_GOTerms(go_id3, go_id4, go, method))\n",
    "\n",
    "method = 'Baseline'\n",
    "print(method)\n",
    "# Similarity_of_Two_GOTerms(go_id1, go_id2, go, method)\n",
    "# Similarity_of_Two_GOTerms(go_id3, go_id4, go, method)\n",
    "print(go_id1,\"and\", go_id2, \"=\", Similarity_of_Two_GOTerms(go_id1, go_id2, go, method))\n",
    "print(go_id3,\"and\", go_id4, \"=\",Similarity_of_Two_GOTerms(go_id3, go_id4, go, method))\n",
    "\n",
    "method = 'Baseline_LCA'\n",
    "print(method)\n",
    "# Similarity_of_Two_GOTerms(go_id1, go_id2, go, method)\n",
    "# Similarity_of_Two_GOTerms(go_id3, go_id4, go, method)\n",
    "print(go_id1,\"and\", go_id2, \"=\", Similarity_of_Two_GOTerms(go_id1, go_id2, go, method))\n",
    "print(go_id3,\"and\", go_id4, \"=\",Similarity_of_Two_GOTerms(go_id3, go_id4, go, method))\n",
    "\n",
    "method = 'Baseline_Desc'\n",
    "print(method)\n",
    "# Similarity_of_Two_GOTerms(go_id1, go_id2, go, method)\n",
    "# Similarity_of_Two_GOTerms(go_id3, go_id4, go, method)\n",
    "print(go_id1,\"and\", go_id2, \"=\", Similarity_of_Two_GOTerms(go_id1, go_id2, go, method))\n",
    "print(go_id3,\"and\", go_id4, \"=\",Similarity_of_Two_GOTerms(go_id3, go_id4, go, method))\n",
    "\n",
    "method = 'wang'\n",
    "print(method)\n",
    "print(go_id1,\"and\", go_id2, \"=\", Similarity_of_Two_GOTerms(go_id1, go_id2, go, method))\n",
    "print(go_id3,\"and\", go_id4, \"=\",Similarity_of_Two_GOTerms(go_id3, go_id4, go, method))\n",
    "\n",
    "\n",
    "method = 'GOGO'\n",
    "print(method)\n",
    "print(go_id1,\"and\", go_id2, \"=\", Similarity_of_Two_GOTerms(go_id1, go_id2, go, method))\n",
    "print(go_id3,\"and\", go_id4, \"=\",Similarity_of_Two_GOTerms(go_id3, go_id4, go, method))"
   ]
  },
  {
   "cell_type": "code",
   "execution_count": null,
   "metadata": {},
   "outputs": [],
   "source": []
  }
 ],
 "metadata": {
  "kernelspec": {
   "display_name": "Python 3",
   "language": "python",
   "name": "python3"
  },
  "language_info": {
   "codemirror_mode": {
    "name": "ipython",
    "version": 3
   },
   "file_extension": ".py",
   "mimetype": "text/x-python",
   "name": "python",
   "nbconvert_exporter": "python",
   "pygments_lexer": "ipython3",
   "version": "3.7.4"
  }
 },
 "nbformat": 4,
 "nbformat_minor": 2
}
