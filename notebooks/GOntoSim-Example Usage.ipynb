{
 "cells": [
  {
   "cell_type": "code",
   "execution_count": 1,
   "metadata": {
    "scrolled": true
   },
   "outputs": [
    {
     "name": "stdout",
     "output_type": "stream",
     "text": [
      "  EXISTS: go-basic.obo\n",
      "go-basic.obo: fmt(1.2) rel(2024-06-17) 45,494 Terms; optional_attrs(relationship)\n",
      "  EXISTS: go-basic.obo\n",
      "go-basic.obo: fmt(1.2) rel(2024-06-17) 45,494 Terms; optional_attrs(relationship)\n"
     ]
    }
   ],
   "source": [
    "from goatools.base import get_godag\n",
    "import pandas as pd\n",
    "import requests\n",
    "\n",
    "go = get_godag(\"go-basic.obo\", optional_attrs={\"relationship\"})\n",
    "\n",
    "from Similarity import Similarity_of_Two_GOTerms, Similarity_of_Set_of_GOTerms"
   ]
  },
  {
   "cell_type": "code",
   "execution_count": 2,
   "metadata": {},
   "outputs": [],
   "source": [
    "go_id1 = \"GO:0005634\"\n",
    "go_id2 = \"GO:0042579\"\n",
    "go_id3 = \"GO:0005777\"\n",
    "go_id4 = \"GO:0031903\""
   ]
  },
  {
   "cell_type": "code",
   "execution_count": 3,
   "metadata": {},
   "outputs": [
    {
     "name": "stdout",
     "output_type": "stream",
     "text": [
      "GOntoSim\n",
      "GO:0005634 and GO:0042579 = 0.43452661328308995\n",
      "GOntoSim\n",
      "GO:0005777 and GO:0031903 = 0.7516592341352092\n",
      "Baseline\n",
      "GO:0005634 and GO:0042579 = 0.7246229452635147\n",
      "Baseline\n",
      "GO:0005777 and GO:0031903 = 0.6725006629541236\n",
      "Baseline_LCA\n",
      "GO:0005634 and GO:0042579 = 0.8690532265661799\n",
      "Baseline_LCA\n",
      "GO:0005777 and GO:0031903 = 0.9131545338441889\n",
      "Baseline_Desc\n",
      "GO:0005634 and GO:0042579 = 0.36231147263175734\n",
      "Baseline_Desc\n",
      "GO:0005777 and GO:0031903 = 0.6313322986901766\n",
      "wang\n",
      "GO:0005634 and GO:0042579 = 0.7439251158246399\n",
      "wang\n",
      "GO:0005777 and GO:0031903 = 0.6888698543860534\n",
      "GOGO\n",
      "GO:0005634 and GO:0042579 = 0.8088116501220667\n",
      "GOGO\n",
      "GO:0005777 and GO:0031903 = 0.7966598157740756\n"
     ]
    }
   ],
   "source": [
    "method_list = [\"GOntoSim\", \"Baseline\", \"Baseline_LCA\", \"Baseline_Desc\", \"wang\", \"GOGO\"]\n",
    "\n",
    "\n",
    "def Similarity_of_Set_of_GOTerms(go_id1, go_id2, go, method):\n",
    "    print(method)\n",
    "    print(\n",
    "        go_id1,\n",
    "        \"and\",\n",
    "        go_id2,\n",
    "        \"=\",\n",
    "        Similarity_of_Two_GOTerms(go_id1, go_id2, go, method),\n",
    "    )\n",
    "\n",
    "\n",
    "for method in method_list:\n",
    "    Similarity_of_Set_of_GOTerms(go_id1, go_id2, go, method)\n",
    "    Similarity_of_Set_of_GOTerms(go_id3, go_id4, go, method)"
   ]
  },
  {
   "cell_type": "code",
   "execution_count": 4,
   "metadata": {},
   "outputs": [],
   "source": [
    "gene1 = [\n",
    "    \"GO:0004022\",\n",
    "    \"GO:0004024\",\n",
    "    \"GO:0004174\",\n",
    "    \"GO:0046872\",\n",
    "    \"GO:0008270\",\n",
    "    \"GO:0004023\",\n",
    "    \"GO:0016491\",\n",
    "]\n",
    "\n",
    "\n",
    "gene2 = [\"GO:0009055\", \"GO:0005515\", \"GO:0046872\", \"GO:0008270\", \"GO:0020037\"]"
   ]
  },
  {
   "cell_type": "code",
   "execution_count": 5,
   "metadata": {},
   "outputs": [
    {
     "name": "stdout",
     "output_type": "stream",
     "text": [
      "GOntoSim\n",
      "0.683\n",
      "Baseline\n",
      "0.423\n",
      "Baseline_LCA\n",
      "1.004\n",
      "Baseline_Desc\n",
      "0.432\n",
      "wang\n",
      "0.536\n",
      "GOGO\n",
      "0.53\n"
     ]
    }
   ],
   "source": [
    "method = \"GOntoSim\"\n",
    "print(method)\n",
    "print(Similarity_of_Set_of_GOTerms(gene1, gene2, method))\n",
    "\n",
    "method = \"Baseline\"\n",
    "print(method)\n",
    "# print(Similarity_of_Set_of_GOTerms(['GO:0004022','GO:0004024', 'GO:0004174', 'GO:0046872','GO:0008270','GO:0004023', 'GO:0016491'],['GO:0009055','GO:0005515','GO:0046872','GO:0008270','GO:0020037'], method))\n",
    "print(Similarity_of_Set_of_GOTerms(gene1, gene2, method))\n",
    "\n",
    "\n",
    "method = \"Baseline_LCA\"\n",
    "print(method)\n",
    "# print(Similarity_of_Set_of_GOTerms(['GO:0004022','GO:0004024', 'GO:0004174', 'GO:0046872','GO:0008270','GO:0004023', 'GO:0016491'],['GO:0009055','GO:0005515','GO:0046872','GO:0008270','GO:0020037'], method))\n",
    "print(Similarity_of_Set_of_GOTerms(gene1, gene2, method))\n",
    "\n",
    "\n",
    "method = \"Baseline_Desc\"\n",
    "print(method)\n",
    "# print(Similarity_of_Set_of_GOTerms(['GO:0004022','GO:0004024', 'GO:0004174', 'GO:0046872','GO:0008270','GO:0004023', 'GO:0016491'],['GO:0009055','GO:0005515','GO:0046872','GO:0008270','GO:0020037'], method))\n",
    "print(Similarity_of_Set_of_GOTerms(gene1, gene2, method))\n",
    "\n",
    "\n",
    "method = \"wang\"\n",
    "print(method)\n",
    "# print(Similarity_of_Set_of_GOTerms(['GO:0004022','GO:0004024', 'GO:0004174', 'GO:0046872','GO:0008270','GO:0004023', 'GO:0016491'],['GO:0009055','GO:0005515','GO:0046872','GO:0008270','GO:0020037'], method))\n",
    "print(Similarity_of_Set_of_GOTerms(gene1, gene2, method))\n",
    "\n",
    "\n",
    "method = \"GOGO\"\n",
    "print(method)\n",
    "# print(Similarity_of_Set_of_GOTerms(['GO:0004022','GO:0004024', 'GO:0004174', 'GO:0046872','GO:0008270','GO:0004023', 'GO:0016491'],['GO:0009055','GO:0005515','GO:0046872','GO:0008270','GO:0020037'], method))\n",
    "print(Similarity_of_Set_of_GOTerms(gene1, gene2, method))"
   ]
  },
  {
   "cell_type": "code",
   "execution_count": 6,
   "metadata": {},
   "outputs": [],
   "source": [
    "def getGoTerms(URL):\n",
    "    requestURL = (\n",
    "        \"https://www.ebi.ac.uk/QuickGO/services/annotation/downloadSearch?geneProductId=\"\n",
    "        + URL\n",
    "    )\n",
    "    r = requests.get(requestURL, headers={\"Accept\": \"text/tsv\"})\n",
    "    if not r.ok:\n",
    "        responseBody = \"!Too many parameters\\n\"\n",
    "        return responseBody\n",
    "        # r.raise_for_status()\n",
    "        # sys.exit()\n",
    "\n",
    "    responseBody = r.text\n",
    "    return responseBody\n",
    "\n",
    "\n",
    "def get_Annotations(protein, aspect=\"MF\"):\n",
    "    annotation = getGoTerms(protein)\n",
    "    # print(annotation)\n",
    "    df = pd.DataFrame(\n",
    "        [x.split(\"\\t\") for x in annotation.split(\"\\n\")[1:]],\n",
    "        columns=[x for x in annotation.split(\"\\n\")[0].split(\"\\t\")],\n",
    "    )\n",
    "    df = df.drop(\n",
    "        [\n",
    "            \"GENE PRODUCT DB\",\n",
    "            \"ECO ID\",\n",
    "            \"REFERENCE\",\n",
    "            \"WITH/FROM\",\n",
    "            \"TAXON ID\",\n",
    "            \"ASSIGNED BY\",\n",
    "            \"ANNOTATION EXTENSION\",\n",
    "        ],\n",
    "        axis=1,\n",
    "    )\n",
    "\n",
    "    if aspect == \"MF\":\n",
    "        Filtered = df[(df[\"GO ASPECT\"] == \"F\")]\n",
    "    if aspect == \"BP\":\n",
    "        Filtered = df[(df[\"GO ASPECT\"] == \"P\")]\n",
    "    if aspect == \"CC\":\n",
    "        Filtered = df[(df[\"GO ASPECT\"] == \"C\")]\n",
    "    # Drop rows with duplicate GO terms\n",
    "    Filtered = Filtered.drop_duplicates(\"GO TERM\")\n",
    "    x = Filtered[\"GO TERM\"].tolist()\n",
    "    return x"
   ]
  },
  {
   "cell_type": "markdown",
   "metadata": {},
   "source": [
    "# Similarity of 2 Proteins"
   ]
  },
  {
   "cell_type": "code",
   "execution_count": 7,
   "metadata": {},
   "outputs": [
    {
     "name": "stdout",
     "output_type": "stream",
     "text": [
      "GOntoSim\n",
      "0.759\n"
     ]
    }
   ],
   "source": [
    "protein1 = \"P0CG30\"\n",
    "protein1_GOTerms = get_Annotations(protein1, \"MF\")\n",
    "\n",
    "protein2 = \"Q9P6M1\"\n",
    "protein2_GOTerms = get_Annotations(protein2, \"MF\")\n",
    "\n",
    "method = \"GOntoSim\"\n",
    "print(method)\n",
    "print(Similarity_of_Set_of_GOTerms(protein1_GOTerms, protein2_GOTerms, method))"
   ]
  },
  {
   "cell_type": "code",
   "execution_count": null,
   "metadata": {},
   "outputs": [],
   "source": []
  }
 ],
 "metadata": {
  "kernelspec": {
   "display_name": "Python 3",
   "language": "python",
   "name": "python3"
  },
  "language_info": {
   "codemirror_mode": {
    "name": "ipython",
    "version": 3
   },
   "file_extension": ".py",
   "mimetype": "text/x-python",
   "name": "python",
   "nbconvert_exporter": "python",
   "pygments_lexer": "ipython3",
   "version": "3.11.9"
  }
 },
 "nbformat": 4,
 "nbformat_minor": 2
}
